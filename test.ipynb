{
 "cells": [
  {
   "cell_type": "code",
   "execution_count": 49,
   "metadata": {},
   "outputs": [
    {
     "name": "stdout",
     "output_type": "stream",
     "text": [
      "59\n"
     ]
    }
   ],
   "source": [
    "import requests\n",
    "import json\n",
    "url=\"https://shopee.tw/api/v2/item/get_ratings?itemid=777821120&shopid=37137599&limit=59\"\n",
    "# url=\"https://shopee.tw/api/v2/item/get_ratings?exclude_filter=1&filter=0&filter_size=0&flag=1&fold_filter=0&itemid=777821120&offset=0&relevant_reviews=false&request_source=2&shopid=37137599&tag_filter=&type=0&variation_filters=\"\n",
    "# url= \"https://shopee.tw/api/v2/item/get_ratings?exclude_filter=1&filter=0&filter_size=0&flag=1&fold_filter=0&itemid=777821120&limit=2&offset=0&relevant_reviews=false&request_source=2&shopid=37137599&tag_filter=&type=0&variation_filters=sorted\"\n",
    "response = requests.get(url)\n",
    "API_Data = response.json()\n",
    "print(len(API_Data['data']['ratings']))\n",
    "ratings = API_Data['data']['ratings']\n",
    "# print(ratings)\n",
    "# \n",
    "# print(json.dumps(ratings, indent=2, ))\n"
   ]
  },
  {
   "cell_type": "code",
   "execution_count": 68,
   "metadata": {},
   "outputs": [],
   "source": [
    "# url=\"https://shopee.tw/api/v2/item/get_ratings?exclude_filter=1&filter=0&filter_size=0&flag=1&fold_filter=0&itemid=777821120&limit=6&offset=738&relevant_reviews=false&request_source=2&shopid=37137599&tag_filter=&type=5&variation_filters=\"\n",
    "url=\"https://shopee.tw/api/v2/item/get_ratings?exclude_filter=1&filter=0&filter_size=0&flag=1&fold_filter=0&itemid=777821120&limit=1&offset=4000&relevant_reviews=false&request_source=2&shopid=37137599&tag_filter=&type=5&variation_filters=\""
   ]
  },
  {
   "cell_type": "code",
   "execution_count": 76,
   "metadata": {},
   "outputs": [
    {
     "ename": "TypeError",
     "evalue": "object of type 'NoneType' has no len()",
     "output_type": "error",
     "traceback": [
      "\u001b[1;31m---------------------------------------------------------------------------\u001b[0m",
      "\u001b[1;31mTypeError\u001b[0m                                 Traceback (most recent call last)",
      "\u001b[1;32mc:\\Users\\VICTUS\\OneDrive\\Desktop\\ShoppeDataCrawler\\test.ipynb Cell 3\u001b[0m line \u001b[0;36m7\n\u001b[0;32m      <a href='vscode-notebook-cell:/c%3A/Users/VICTUS/OneDrive/Desktop/ShoppeDataCrawler/test.ipynb#W4sZmlsZQ%3D%3D?line=4'>5</a>\u001b[0m response \u001b[39m=\u001b[39m requests\u001b[39m.\u001b[39mget(url)\n\u001b[0;32m      <a href='vscode-notebook-cell:/c%3A/Users/VICTUS/OneDrive/Desktop/ShoppeDataCrawler/test.ipynb#W4sZmlsZQ%3D%3D?line=5'>6</a>\u001b[0m API_Data \u001b[39m=\u001b[39m response\u001b[39m.\u001b[39mjson()\n\u001b[1;32m----> <a href='vscode-notebook-cell:/c%3A/Users/VICTUS/OneDrive/Desktop/ShoppeDataCrawler/test.ipynb#W4sZmlsZQ%3D%3D?line=6'>7</a>\u001b[0m \u001b[39mprint\u001b[39m(\u001b[39mlen\u001b[39;49m(API_Data[\u001b[39m'\u001b[39;49m\u001b[39mdata\u001b[39;49m\u001b[39m'\u001b[39;49m][\u001b[39m'\u001b[39;49m\u001b[39mratings\u001b[39;49m\u001b[39m'\u001b[39;49m]))\n\u001b[0;32m      <a href='vscode-notebook-cell:/c%3A/Users/VICTUS/OneDrive/Desktop/ShoppeDataCrawler/test.ipynb#W4sZmlsZQ%3D%3D?line=7'>8</a>\u001b[0m ratings \u001b[39m=\u001b[39m API_Data[\u001b[39m'\u001b[39m\u001b[39mdata\u001b[39m\u001b[39m'\u001b[39m][\u001b[39m'\u001b[39m\u001b[39mratings\u001b[39m\u001b[39m'\u001b[39m]\n\u001b[0;32m     <a href='vscode-notebook-cell:/c%3A/Users/VICTUS/OneDrive/Desktop/ShoppeDataCrawler/test.ipynb#W4sZmlsZQ%3D%3D?line=9'>10</a>\u001b[0m \u001b[39m# print(json.dumps(ratings, indent=2, ))\u001b[39;00m\n",
      "\u001b[1;31mTypeError\u001b[0m: object of type 'NoneType' has no len()"
     ]
    }
   ],
   "source": [
    "import requests\n",
    "import json\n",
    "\n",
    "url=\"https://shopee.tw/api/v2/item/get_ratings?exclude_filter=1&filter=0&filter_size=0&flag=1&fold_filter=0&itemid=777821120&limit=59&offset=3001&relevant_reviews=false&request_source=2&shopid=37137599&tag_filter=&type=5&variation_filters=\"\n",
    "response = requests.get(url)\n",
    "API_Data = response.json()\n",
    "print(len(API_Data['data']['ratings']))\n",
    "ratings = API_Data['data']['ratings']\n",
    "\n",
    "# print(json.dumps(ratings, indent=2, ))\n"
   ]
  },
  {
   "cell_type": "code",
   "execution_count": 93,
   "metadata": {},
   "outputs": [],
   "source": [
    "import requests\n",
    "import json\n",
    "import os\n",
    "import pandas as pd\n",
    "import time\n",
    "\n",
    "base_url = \"https://shopee.tw/api/v2/item/get_ratings\"\n",
    "\n",
    "def main():\n",
    "    # Read the Excel file\n",
    "    df = pd.read_excel('Shoppee_Ratings.xlsx')\n",
    "    ids = []\n",
    "\n",
    "    for i in df['url']:\n",
    "        if i.split('/')[-2].isdigit():\n",
    "            shop_id = i.split('/')[-2]\n",
    "        else:\n",
    "            shop_id = i.split('/')[-1].split('.')[-2]\n",
    "        \n",
    "        product_id = i.split('/')[-1].split('.')[-1]\n",
    "        ids.append([product_id, shop_id])\n",
    "\n",
    "    print(len(ids))\n",
    "\n",
    "\n",
    "\n",
    "\n"
   ]
  },
  {
   "cell_type": "code",
   "execution_count": 89,
   "metadata": {},
   "outputs": [
    {
     "name": "stdout",
     "output_type": "stream",
     "text": [
      "[['4030675133', '69426059']]\n"
     ]
    }
   ],
   "source": [
    "# url=\"https://shopee.tw/product/37137599/777821120\"\n",
    "i=\"https://shopee.co.th/%E0%B8%A5%E0%B8%AD%E0%B8%A3%E0%B8%B5%E0%B9%80%E0%B8%AD%E0%B8%B0-%E0%B8%8B%E0%B8%B9%E0%B9%80%E0%B8%9B%E0%B8%AD%E0%B8%A3%E0%B9%8C%E0%B9%80%E0%B8%88%E0%B8%99%E0%B9%80%E0%B8%97%E0%B8%B4%E0%B8%A5%E0%B8%9E%E0%B8%A5%E0%B8%B1%E0%B8%AA%E0%B8%81%E0%B8%A5%E0%B8%B2%E0%B8%87%E0%B8%84%E0%B8%B7%E0%B8%9940%E0%B8%8B%E0%B8%A1.7%E0%B8%8A%E0%B8%B4%E0%B9%89%E0%B8%99-Laurier-SuperGentle-40cm.7pcs-%E0%B8%9C%E0%B9%89%E0%B8%B2%E0%B8%AD%E0%B8%99%E0%B8%B2%E0%B8%A1%E0%B8%B1%E0%B8%A2-%E0%B8%9C%E0%B8%B4%E0%B8%A7%E0%B9%81%E0%B8%9E%E0%B9%89%E0%B8%87%E0%B9%88%E0%B8%B2%E0%B8%A2-i.69426059.4030675133\"\n",
    "ids=[]\n",
    "# digit= url.split('/')[-1].split('.')[-1]\n",
    "# print(digit)\n",
    "if i.split('/')[-2].isdigit():\n",
    "    shop_id = i.split('/')[-2]\n",
    "    print(shop_id)\n",
    "else:\n",
    "        shop_id = i.split('/')[-1].split('.')[-2]\n",
    "        \n",
    "        product_id = i.split('/')[-1].split('.')[-1]\n",
    "        ids.append([product_id, shop_id])\n",
    "\n",
    "print(ids)"
   ]
  }
 ],
 "metadata": {
  "kernelspec": {
   "display_name": "Python 3",
   "language": "python",
   "name": "python3"
  },
  "language_info": {
   "codemirror_mode": {
    "name": "ipython",
    "version": 3
   },
   "file_extension": ".py",
   "mimetype": "text/x-python",
   "name": "python",
   "nbconvert_exporter": "python",
   "pygments_lexer": "ipython3",
   "version": "3.11.4"
  }
 },
 "nbformat": 4,
 "nbformat_minor": 2
}
